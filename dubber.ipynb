{
 "cells": [
  {
   "cell_type": "code",
   "execution_count": 5,
   "id": "6df899d7",
   "metadata": {},
   "outputs": [
    {
     "name": "stdout",
     "output_type": "stream",
     "text": [
      "🔊 Extracting audio...\n",
      "🎙️ Transcribing with Whisper 'base'...\n"
     ]
    },
    {
     "name": "stderr",
     "output_type": "stream",
     "text": [
      "C:\\Users\\Gaurav\\AppData\\Roaming\\Python\\Python310\\site-packages\\whisper\\transcribe.py:132: UserWarning: FP16 is not supported on CPU; using FP32 instead\n",
      "  warnings.warn(\"FP16 is not supported on CPU; using FP32 instead\")\n"
     ]
    },
    {
     "name": "stdout",
     "output_type": "stream",
     "text": [
      "🌐 Translating to Hindi...\n"
     ]
    },
    {
     "name": "stderr",
     "output_type": "stream",
     "text": [
      "Translating: 100%|██████████| 3/3 [00:04<00:00,  1.66s/it]\n"
     ]
    },
    {
     "name": "stdout",
     "output_type": "stream",
     "text": [
      "🎤 Generating Hindi audio clips...\n"
     ]
    },
    {
     "name": "stderr",
     "output_type": "stream",
     "text": [
      "Generating Audio: 100%|██████████| 3/3 [00:06<00:00,  2.04s/it]\n"
     ]
    },
    {
     "name": "stdout",
     "output_type": "stream",
     "text": [
      "🎬 Creating dubbed video...\n",
      "❌ Error: 'VideoFileClip' object has no attribute 'set_audio'\n",
      "🧹 Cleaning up...\n",
      "⚠️ Cleanup issue: [WinError 32] The process cannot access the file because it is being used by another process: 'temp_audio_clips\\\\clip_0.mp3'\n",
      "✅ Done.\n"
     ]
    }
   ],
   "source": [
    "# =================== HINDI VIDEO DUBBING PIPELINE ===================\n",
    "\n",
    "\n",
    "import os, shutil, time\n",
    "import whisper\n",
    "from moviepy import VideoFileClip, AudioFileClip, concatenate_audioclips\n",
    "from transformers import MarianMTModel, MarianTokenizer\n",
    "from gtts import gTTS\n",
    "from tqdm import tqdm\n",
    "\n",
    "# 🎛️ Configuration\n",
    "VIDEO_PATH = \"input_video.mp4\"\n",
    "TEMP_AUDIO = \"temp_audio.wav\"\n",
    "TEMP_CLIPS_DIR = \"temp_audio_clips\"\n",
    "OUTPUT_VIDEO = \"dubbed_video.mp4\"\n",
    "MODEL_SIZE = \"base\"\n",
    "TRANSLATION_MODEL_NAME = 'Helsinki-NLP/opus-mt-en-hi'\n",
    "\n",
    "try:\n",
    "    if not os.path.exists(VIDEO_PATH):\n",
    "        raise FileNotFoundError(f\"Input video '{VIDEO_PATH}' not found.\")\n",
    "\n",
    "    # 🔊 Step 1: Extract audio\n",
    "    print(\"🔊 Extracting audio...\")\n",
    "    video_clip = VideoFileClip(VIDEO_PATH)\n",
    "    video_clip.audio.write_audiofile(TEMP_AUDIO, codec='pcm_s16le', logger=None)\n",
    "    video_clip.close()\n",
    "\n",
    "    # 🎙️ Step 2: Transcribe\n",
    "    print(f\"🎙️ Transcribing with Whisper '{MODEL_SIZE}'...\")\n",
    "    model = whisper.load_model(MODEL_SIZE)\n",
    "    segments = model.transcribe(TEMP_AUDIO, word_timestamps=True)['segments']\n",
    "\n",
    "    # 🌐 Step 3: Translate\n",
    "    print(\"🌐 Translating to Hindi...\")\n",
    "    tokenizer = MarianTokenizer.from_pretrained(TRANSLATION_MODEL_NAME)\n",
    "    translator = MarianMTModel.from_pretrained(TRANSLATION_MODEL_NAME)\n",
    "    for segment in tqdm(segments, desc=\"Translating\"):\n",
    "        text = segment['text'].strip()\n",
    "        if text:\n",
    "            inputs = tokenizer(text, return_tensors=\"pt\", padding=True)\n",
    "            translated = translator.generate(**inputs)\n",
    "            segment['translated_text'] = tokenizer.decode(translated[0], skip_special_tokens=True)\n",
    "\n",
    "    # 🎤 Step 4: Generate Hindi audio\n",
    "    print(\"🎤 Generating Hindi audio clips...\")\n",
    "    os.makedirs(TEMP_CLIPS_DIR, exist_ok=True)\n",
    "    clip_paths = []\n",
    "    for i, segment in enumerate(tqdm(segments, desc=\"Generating Audio\")):\n",
    "        text = segment.get('translated_text', '').strip()\n",
    "        if text:\n",
    "            path = os.path.join(TEMP_CLIPS_DIR, f\"clip_{i}.mp3\")\n",
    "            try:\n",
    "                gTTS(text, lang='hi').save(path)\n",
    "                clip_paths.append(path)\n",
    "            except Exception as e:\n",
    "                print(f\"❌ Segment {i} failed: {e}\")\n",
    "\n",
    "    # 🎬 Step 5: Create final video\n",
    "    print(\"🎬 Creating dubbed video...\")\n",
    "    audio_clips = []\n",
    "    for path in clip_paths:\n",
    "        try:\n",
    "            clip = AudioFileClip(path)\n",
    "            audio_clips.append(clip)\n",
    "        except Exception as e:\n",
    "            print(f\"⚠️ Error loading clip {path}: {e}\")\n",
    "\n",
    "    final_audio = concatenate_audioclips(audio_clips)\n",
    "    original_clip = VideoFileClip(VIDEO_PATH)\n",
    "    dubbed_clip = original_clip.set_audio(final_audio)\n",
    "    dubbed_clip.write_videofile(OUTPUT_VIDEO, codec=\"libx264\", audio_codec=\"aac\", logger=None)\n",
    "\n",
    "    # Close all clips\n",
    "    original_clip.close()\n",
    "    dubbed_clip.close()\n",
    "    for clip in audio_clips:\n",
    "        clip.close()\n",
    "\n",
    "except Exception as e:\n",
    "    print(f\"❌ Error: {e}\")\n",
    "\n",
    "finally:\n",
    "    print(\"🧹 Cleaning up...\")\n",
    "    time.sleep(1)  # Give system time to release file handles\n",
    "    for path in [TEMP_AUDIO, TEMP_CLIPS_DIR]:\n",
    "        try:\n",
    "            if os.path.isdir(path):\n",
    "                shutil.rmtree(path)\n",
    "            elif os.path.isfile(path):\n",
    "                os.remove(path)\n",
    "        except Exception as cleanup_err:\n",
    "            print(f\"⚠️ Cleanup issue: {cleanup_err}\")\n",
    "    print(\"✅ Done.\")\n",
    "\n"
   ]
  }
 ],
 "metadata": {
  "kernelspec": {
   "display_name": "Python 3",
   "language": "python",
   "name": "python3"
  },
  "language_info": {
   "codemirror_mode": {
    "name": "ipython",
    "version": 3
   },
   "file_extension": ".py",
   "mimetype": "text/x-python",
   "name": "python",
   "nbconvert_exporter": "python",
   "pygments_lexer": "ipython3",
   "version": "3.10.0"
  }
 },
 "nbformat": 4,
 "nbformat_minor": 5
}
